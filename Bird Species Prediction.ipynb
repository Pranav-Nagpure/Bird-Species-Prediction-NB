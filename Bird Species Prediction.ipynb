{
 "cells": [
  {
   "attachments": {},
   "cell_type": "markdown",
   "metadata": {},
   "source": [
    "## Bird Species Prediction"
   ]
  },
  {
   "cell_type": "code",
   "execution_count": 1,
   "metadata": {},
   "outputs": [],
   "source": [
    "# Set Parameters\n",
    "\n",
    "# Batch Size for all Datasets\n",
    "BATCH_SIZE = 64\n",
    "\n",
    "# Maximum number of Epochs for Training\n",
    "EPOCHS = 20\n"
   ]
  },
  {
   "cell_type": "code",
   "execution_count": 5,
   "metadata": {},
   "outputs": [],
   "source": [
    "# Import Modules\n",
    "import os\n",
    "import re\n",
    "import pandas as pd\n",
    "import tensorflow as tf\n",
    "import keras.layers as layers\n",
    "import matplotlib.pyplot as plt\n",
    "\n",
    "from keras.models import Model\n",
    "from keras import regularizers\n",
    "from sklearn.utils import shuffle\n",
    "from keras.optimizers import Adamax\n",
    "from IPython.display import clear_output\n",
    "from sklearn.preprocessing import LabelEncoder\n",
    "\n",
    "from callbacks import TrainCallback\n",
    "from efficient_net import EfficientNet\n"
   ]
  },
  {
   "attachments": {},
   "cell_type": "markdown",
   "metadata": {},
   "source": [
    "#### Get Dataset from Kaggle"
   ]
  },
  {
   "cell_type": "code",
   "execution_count": 3,
   "metadata": {},
   "outputs": [],
   "source": [
    "# Download Dataset\n",
    "!mkdir dataset\n",
    "%cd dataset\n",
    "!kaggle datasets download -d gpiosenka/100-bird-species\n",
    "clear_output()\n"
   ]
  },
  {
   "cell_type": "code",
   "execution_count": 4,
   "metadata": {},
   "outputs": [],
   "source": [
    "# Unzip Dataset\n",
    "!tar -xf 100-bird-species.zip\n"
   ]
  },
  {
   "cell_type": "code",
   "execution_count": 5,
   "metadata": {},
   "outputs": [],
   "source": [
    "# Delete Unwanted Files\n",
    "!del 100-bird-species.zip\n",
    "!del \"EfficientNetB0-525-(224 X 224)- 98.97.h5\"\n",
    "\n",
    "!rmdir /s/q \"train/LOONEY BIRDS\" # Not Birds\n",
    "!rmdir /s/q \"test/LOONEY BIRDS\"  # Not Birds\n",
    "!rmdir /s/q \"valid/LOONEY BIRDS\" # Not Birds\n",
    "\n",
    "%cd ..\n",
    "clear_output()\n"
   ]
  },
  {
   "attachments": {},
   "cell_type": "markdown",
   "metadata": {},
   "source": [
    "#### Loading Filepaths in Pandas DataFrame"
   ]
  },
  {
   "cell_type": "code",
   "execution_count": 6,
   "metadata": {},
   "outputs": [],
   "source": [
    "data_df = pd.read_csv('dataset/birds.csv', usecols=['filepaths', 'labels', 'data set'])\n",
    "\n",
    "data_df = data_df[data_df['labels'] != 'LOONEY BIRDS']  # Not Birds\n",
    "data_df['filepaths'] = data_df['filepaths'].apply(lambda x: f'dataset/{x}')\n"
   ]
  },
  {
   "attachments": {},
   "cell_type": "markdown",
   "metadata": {},
   "source": [
    "#### Cleaning Data\n",
    "\n",
    "- Some filepaths in dataframe have multiple spaces.\n",
    "- Some directory names in dataset have multiple spaces\n",
    "- Typos in Dataframe\n"
   ]
  },
  {
   "cell_type": "code",
   "execution_count": 7,
   "metadata": {},
   "outputs": [],
   "source": [
    "# Clean Filepaths\n",
    "data_df['filepaths'] = data_df['filepaths'].apply(lambda x: re.sub(' +', ' ', x))\n",
    "\n",
    "data_df['filepaths'] = data_df['filepaths'].apply(lambda x: re.sub('AKULET', 'AUKLET', x))\n"
   ]
  },
  {
   "cell_type": "code",
   "execution_count": 8,
   "metadata": {},
   "outputs": [],
   "source": [
    "# Clean Dataset\n",
    "datasets = os.listdir('dataset')\n",
    "\n",
    "for dataset in datasets:\n",
    "    if os.path.isdir(f'dataset/{dataset}'):\n",
    "        directories = os.listdir(f'dataset/{dataset}')\n",
    "        for directory in directories:\n",
    "            new_directory = re.sub(' +', ' ', directory)\n",
    "            if (new_directory != directory):\n",
    "                os.rename(f'dataset/{dataset}/{directory}', f'dataset/{dataset}/{new_directory}')\n"
   ]
  },
  {
   "attachments": {},
   "cell_type": "markdown",
   "metadata": {},
   "source": [
    "#### Setting Up Data"
   ]
  },
  {
   "cell_type": "code",
   "execution_count": 9,
   "metadata": {},
   "outputs": [],
   "source": [
    "# Label Encoding\n",
    "encoder = LabelEncoder().fit(data_df['labels'].unique())\n",
    "data_df['labels'] = encoder.transform(data_df['labels'])\n",
    "\n",
    "# Saving encoder data for Web Application\n",
    "enc_file = open('encoder_data.txt', 'w')\n",
    "for cls in encoder.classes_:\n",
    "    enc_file.write(cls+'\\n')\n",
    "enc_file.close()\n"
   ]
  },
  {
   "cell_type": "code",
   "execution_count": 10,
   "metadata": {},
   "outputs": [],
   "source": [
    "# Splitting Data\n",
    "train_df = data_df[data_df['data set'] == 'train']\n",
    "val_df = data_df[data_df['data set'] == 'valid']\n",
    "test_df = data_df[data_df['data set'] == 'test']\n"
   ]
  },
  {
   "cell_type": "code",
   "execution_count": 11,
   "metadata": {},
   "outputs": [],
   "source": [
    "# Sampling 128 Images from each class\n",
    "train_df = shuffle(train_df.groupby('labels', group_keys=False).apply(lambda x: x.sample(n=128)))\n"
   ]
  },
  {
   "cell_type": "code",
   "execution_count": 12,
   "metadata": {},
   "outputs": [],
   "source": [
    "# Creating Dataset\n",
    "def load_dataframe(df):\n",
    "    ds = tf.data.Dataset.from_tensor_slices((df['filepaths'], df['labels']))\n",
    "    ds = ds.map(lambda x, y: (tf.io.read_file(x), y), num_parallel_calls=tf.data.AUTOTUNE, deterministic=False)\n",
    "    ds = ds.map(lambda x, y: (tf.image.decode_jpeg(x, channels=3), y), num_parallel_calls=tf.data.AUTOTUNE, deterministic=False)\n",
    "    ds = ds.map(lambda x, y: (tf.image.resize(x, (224, 224)), y), num_parallel_calls=tf.data.AUTOTUNE, deterministic=False)\n",
    "    ds = ds.batch(batch_size=BATCH_SIZE, num_parallel_calls=tf.data.AUTOTUNE, deterministic=False)\n",
    "\n",
    "    # Optimize Performance\n",
    "    ds = ds.cache().prefetch(buffer_size=tf.data.AUTOTUNE)\n",
    "\n",
    "    return ds\n",
    "\n",
    "\n",
    "train_ds = load_dataframe(train_df)\n",
    "val_ds = load_dataframe(val_df)\n",
    "test_ds = load_dataframe(test_df)\n"
   ]
  },
  {
   "attachments": {},
   "cell_type": "markdown",
   "metadata": {},
   "source": [
    "#### Modelling"
   ]
  },
  {
   "cell_type": "code",
   "execution_count": 13,
   "metadata": {},
   "outputs": [],
   "source": [
    "# Preprocessing Layers\n",
    "scaling_layer = layers.Rescaling(1.0/255)\n",
    "normalizing_layer = layers.Normalization()\n",
    "\n",
    "ds = tf.data.Dataset.from_tensor_slices((train_df['filepaths']))\n",
    "ds = ds.map(lambda x: tf.io.read_file(x), num_parallel_calls=tf.data.AUTOTUNE, deterministic=False)\n",
    "ds = ds.map(lambda x: tf.image.decode_jpeg(x, channels=3), num_parallel_calls=tf.data.AUTOTUNE, deterministic=False)\n",
    "ds = ds.map(lambda x: tf.image.resize(x, (224, 224)), num_parallel_calls=tf.data.AUTOTUNE, deterministic=False)\n",
    "ds = ds.map(lambda x: scaling_layer(x), num_parallel_calls=tf.data.AUTOTUNE, deterministic=False)\n",
    "ds = ds.cache().prefetch(buffer_size=tf.data.AUTOTUNE)\n",
    "\n",
    "normalizing_layer.adapt(ds, batch_size=BATCH_SIZE)\n"
   ]
  },
  {
   "cell_type": "code",
   "execution_count": 14,
   "metadata": {},
   "outputs": [],
   "source": [
    "# Build Model\n",
    "input = tf.keras.Input(shape=(224, 224, 3), name='Input_Layer')\n",
    "output = scaling_layer(input)\n",
    "output = normalizing_layer(output)\n",
    "\n",
    "output = EfficientNet(output)  # EfficientNet B0\n",
    "\n",
    "output = layers.BatchNormalization()(output)\n",
    "output = layers.Dense(524, kernel_regularizer=regularizers.l2(l=0.015), activity_regularizer=regularizers.l1(0.005),\n",
    "                      bias_regularizer=regularizers.l1(0.005), activation='softmax')(output)\n",
    "\n",
    "model = Model(inputs=input, outputs=output)\n",
    "\n",
    "model.compile(Adamax(learning_rate=0.001), loss='sparse_categorical_crossentropy', metrics=['accuracy'])\n"
   ]
  },
  {
   "cell_type": "code",
   "execution_count": 15,
   "metadata": {},
   "outputs": [
    {
     "name": "stdout",
     "output_type": "stream",
     "text": [
      "Epoch 1/20\n",
      "1048/1048 - 367s - loss: 7.5608 - accuracy: 0.0268 - val_loss: 5.7382 - val_accuracy: 0.0790 - 367s/epoch - 350ms/step\n",
      "Epoch 2/20\n",
      "1048/1048 - 429s - loss: 4.2936 - accuracy: 0.2701 - val_loss: 3.3497 - val_accuracy: 0.4015 - 429s/epoch - 410ms/step\n",
      "Epoch 3/20\n",
      "1048/1048 - 461s - loss: 2.7274 - accuracy: 0.5612 - val_loss: 2.2224 - val_accuracy: 0.6519 - 461s/epoch - 440ms/step\n",
      "Epoch 4/20\n",
      "1048/1048 - 455s - loss: 1.9528 - accuracy: 0.7180 - val_loss: 1.8175 - val_accuracy: 0.7282 - 455s/epoch - 434ms/step\n",
      "Epoch 5/20\n",
      "1048/1048 - 452s - loss: 1.4738 - accuracy: 0.8156 - val_loss: 1.6355 - val_accuracy: 0.7588 - 452s/epoch - 432ms/step\n",
      "Epoch 6/20\n",
      "1048/1048 - 461s - loss: 1.1233 - accuracy: 0.8878 - val_loss: 1.5202 - val_accuracy: 0.7664 - 461s/epoch - 440ms/step\n",
      "Epoch 7/20\n",
      "1048/1048 - 457s - loss: 0.8479 - accuracy: 0.9428 - val_loss: 1.4227 - val_accuracy: 0.7691 - 457s/epoch - 436ms/step\n",
      "Epoch 8/20\n",
      "1048/1048 - 457s - loss: 0.6487 - accuracy: 0.9745 - val_loss: 1.2420 - val_accuracy: 0.8004 - 457s/epoch - 436ms/step\n",
      "Epoch 9/20\n",
      "1048/1048 - 455s - loss: 0.5144 - accuracy: 0.9866 - val_loss: 1.2940 - val_accuracy: 0.7782 - 455s/epoch - 434ms/step\n",
      "Epoch 10/20\n",
      "1048/1048 - 471s - loss: 0.4193 - accuracy: 0.9916 - val_loss: 1.0748 - val_accuracy: 0.8099 - 471s/epoch - 449ms/step\n",
      "Epoch 11/20\n",
      "1048/1048 - 443s - loss: 0.3442 - accuracy: 0.9950 - val_loss: 1.0261 - val_accuracy: 0.8134 - 443s/epoch - 423ms/step\n",
      "Epoch 12/20\n",
      "1048/1048 - 438s - loss: 0.2892 - accuracy: 0.9965 - val_loss: 0.9569 - val_accuracy: 0.8202 - 438s/epoch - 418ms/step\n",
      "Epoch 13/20\n",
      "1048/1048 - 446s - loss: 0.2484 - accuracy: 0.9977 - val_loss: 0.9400 - val_accuracy: 0.8256 - 446s/epoch - 426ms/step\n",
      "Epoch 14/20\n",
      "1048/1048 - 446s - loss: 0.2149 - accuracy: 0.9985 - val_loss: 0.9062 - val_accuracy: 0.8260 - 446s/epoch - 426ms/step\n",
      "Epoch 15/20\n",
      "1048/1048 - 446s - loss: 0.1895 - accuracy: 0.9981 - val_loss: 0.8673 - val_accuracy: 0.8351 - 446s/epoch - 425ms/step\n",
      "Epoch 16/20\n",
      "1048/1048 - 445s - loss: 0.1659 - accuracy: 0.9986 - val_loss: 0.8300 - val_accuracy: 0.8412 - 445s/epoch - 425ms/step\n",
      "Epoch 17/20\n",
      "1048/1048 - 448s - loss: 0.1453 - accuracy: 0.9993 - val_loss: 0.7715 - val_accuracy: 0.8450 - 448s/epoch - 427ms/step\n",
      "Epoch 18/20\n",
      "1048/1048 - 445s - loss: 0.1323 - accuracy: 0.9992 - val_loss: 0.7299 - val_accuracy: 0.8538 - 445s/epoch - 424ms/step\n",
      "Epoch 19/20\n",
      "1048/1048 - 444s - loss: 0.1224 - accuracy: 0.9991 - val_loss: 0.7668 - val_accuracy: 0.8508 - 444s/epoch - 423ms/step\n",
      "Epoch 20/20\n",
      "1048/1048 - 444s - loss: 0.1232 - accuracy: 0.9996 - val_loss: 0.6627 - val_accuracy: 0.8710 - 444s/epoch - 424ms/step\n"
     ]
    }
   ],
   "source": [
    "# Training Model\n",
    "callback = TrainCallback(model, EPOCHS, epoch_patience=2, lr_patience=2)\n",
    "history = model.fit(train_ds, epochs=EPOCHS, validation_data=val_ds, verbose=2, callbacks=[callback])\n"
   ]
  },
  {
   "cell_type": "code",
   "execution_count": 16,
   "metadata": {},
   "outputs": [
    {
     "data": {
      "image/png": "[encoded data removed]",
      "text/plain": [
       "<Figure size 2000x500 with 1 Axes>"
      ]
     },
     "metadata": {},
     "output_type": "display_data"
    }
   ],
   "source": [
    "# Plot the training history\n",
    "fig, ax = plt.subplots(figsize=(20, 5))\n",
    "ax.set_title('Model Accuracy')\n",
    "ax.set_xlabel('Epoch')\n",
    "ax.set_ylabel('Accuracy')\n",
    "ax.plot(range(1, len(history.history['accuracy'])+1), history.history['accuracy'], label='train')\n",
    "ax.plot(range(1, len(history.history['val_accuracy'])+1), history.history['val_accuracy'], label='val')\n",
    "_ = ax.legend()\n"
   ]
  },
  {
   "attachments": {},
   "cell_type": "markdown",
   "metadata": {},
   "source": [
    "#### Model Evaluation"
   ]
  },
  {
   "cell_type": "code",
   "execution_count": 17,
   "metadata": {},
   "outputs": [
    {
     "name": "stdout",
     "output_type": "stream",
     "text": [
      "41/41 [==============================] - 6s 135ms/step - loss: 0.4815 - accuracy: 0.9141\n",
      "Accuracy over the test set: 91.41%\n"
     ]
    }
   ],
   "source": [
    "# Model Accuracy on Test Data\n",
    "score = model.evaluate(test_ds)\n",
    "print(f'Accuracy over the test set: {round((score[1]*100), 2)}%')\n"
   ]
  },
  {
   "cell_type": "code",
   "execution_count": 18,
   "metadata": {},
   "outputs": [],
   "source": [
    "model.save('model.h5')\n"
   ]
  }
 ],
 "metadata": {
  "kernelspec": {
   "display_name": "venv",
   "language": "python",
   "name": "python3"
  },
  "language_info": {
   "codemirror_mode": {
    "name": "ipython",
    "version": 3
   },
   "file_extension": ".py",
   "mimetype": "text/x-python",
   "name": "python",
   "nbconvert_exporter": "python",
   "pygments_lexer": "ipython3",
   "version": "3.10.11"
  },
  "orig_nbformat": 4
 },
 "nbformat": 4,
 "nbformat_minor": 2
}
